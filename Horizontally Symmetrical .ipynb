{
 "cells": [
  {
   "cell_type": "markdown",
   "metadata": {},
   "source": [
    "### Given a 24 hour digital clock that displays 4 digits (HH:MI), what is the probability that it displays a time that is horizontally symmetrical ####"
   ]
  },
  {
   "cell_type": "markdown",
   "metadata": {},
   "source": [
    "**eliminating the obvious**\n",
    "\n",
    "- all the times are definitely not symmetrical, so probability has to be less than 1. (duhh!) \n",
    "\n",
    "- atleast one time is symmetrical, i.e. 00:00, so probability has to be greater than 1 (again, duhhh!) \n",
    "\n",
    " \n",
    "**about the denominator, or the total number of outcomes:**\n",
    "\n",
    "HH goes from 00 to 24. MI goes from 00 to 60. therefore,\n",
    "\n",
    "- the total number of unique times the digital clock can display = 24 * 60 = 1440 \n",
    "\n",
    "**alternatively,**\n",
    "\n",
    "a. there are a max of 3 numbers (0,1,2) that can represent the first digit of the hour.\n",
    "\n",
    "b. there are a max of 10 numbers that can represent the second digit of the hour.\n",
    "    - when first digit of the hour = 0, 1, the second digit can show 10 numbers\n",
    "    - when first digit of the hour = 2, the second digit can show 4 numbers\n",
    "    \n",
    "c. there are a max of 6 numbers that can represent the first digit of the minute.\n",
    "\n",
    "d. there are a max of 10 numbers that can represent the second digit of the minute.\n",
    "\n",
    "- Therefore, # of unique times the clock can display = (1\\*10+ 1\\*10  + 1\\*4) * 6 * 10 = 1440 \n",
    "\n",
    "\n",
    "**about the numerator, or the total number of ways symmetrical times can appear:**\n",
    "\n",
    "Of the 10 numeric characters that can appear on the clock, only 4 of them are symmetrical e.g. 0, 1, 3, 8 \n",
    "\n",
    "a. of the 3 numbers that can represent the first digit of the hour, there are 2 numbers (0,1) that are symmetrical.\n",
    "\n",
    "b. of the 10 numbers that can represent the second digit of the hour, there are 4 numbers that are symmetrical.\n",
    "    \n",
    "c. of the 6 numbers that can represent the first digit of the minute, 3 of them are symmetrical\n",
    "\n",
    "d. of the 10 numbers that can represent the second digit of the minute, 4 of them are symmetrical\n",
    "\n",
    "- Therefore, # of unique times the clock can display = (1\\*4 + 1\\*4) * 3 * 4 =  96 \n",
    "\n",
    "\n",
    "**and the answer**\n",
    "\n",
    "The total probability that the clock displays a horizontally symmetrical time = 96/1440 = 0.067\n",
    "\n",
    "\n",
    "### Time for simulation #####\n",
    "\n",
    "Lets construct a class called Time which has a method that checks whether whether a given time is horizontaly symmetrical."
   ]
  },
  {
   "cell_type": "code",
   "execution_count": 234,
   "metadata": {},
   "outputs": [
    {
     "name": "stderr",
     "output_type": "stream",
     "text": [
      "test_no_symmetry (__main__.TestTimeMethod) ... ok\n",
      "test_symmetry (__main__.TestTimeMethod) ... ok\n",
      "\n",
      "----------------------------------------------------------------------\n",
      "Ran 2 tests in 0.003s\n",
      "\n",
      "OK\n"
     ]
    }
   ],
   "source": [
    "import unittest \n",
    "\n",
    "class DISPLAY:\n",
    "    \"\"\"\n",
    "    takes a time formatted as HH:MI and \n",
    "    returns 1 when the time is horizontally symmetrical\n",
    "    and 0 when the time is not horizontally symmetrical\n",
    "    \"\"\"\n",
    "    \n",
    "    def __init__(self, time):\n",
    "        self.time = time\n",
    "        self.symmetrical_digits = ['0', '1', '3', '8']\n",
    "                \n",
    "    def check_symmetry(self):\n",
    "        if self.time[0] in self.symmetrical_digits:\n",
    "            if self.time[1] in self.symmetrical_digits:\n",
    "                if self.time[3] in self.symmetrical_digits:\n",
    "                    if self.time[4] in self.symmetrical_digits:\n",
    "                        return 1\n",
    "        return 0 \n",
    "    \n",
    "class TestTimeMethod(unittest.TestCase):\n",
    "    def test_symmetry(self):\n",
    "        assert(DISPLAY('11:11').check_symmetry())==1\n",
    "\n",
    "    def test_no_symmetry(self):\n",
    "        assert(DISPLAY('02:02').check_symmetry())==0\n",
    "        \n",
    "if __name__ == '__main__':\n",
    "    unittest.main(argv=[''], verbosity=2, exit=False)"
   ]
  },
  {
   "cell_type": "markdown",
   "metadata": {},
   "source": [
    "Now let us run a Monte-Carlo simulation to verify the probability that we calculated. \n",
    "\n",
    "#### create a random time generator ####"
   ]
  },
  {
   "cell_type": "code",
   "execution_count": 238,
   "metadata": {},
   "outputs": [
    {
     "name": "stdout",
     "output_type": "stream",
     "text": [
      "0.0641\n"
     ]
    }
   ],
   "source": [
    "from random import randint\n",
    "\n",
    "class TIME:\n",
    "    def __init__(self):\n",
    "        hour_str = str(randint(0, 24))\n",
    "        minute_str = str(randint(0, 60))\n",
    "\n",
    "        if len(hour_str)<2:\n",
    "            hour_str = f'0{hour_str}'\n",
    "        if len(minute_str)<2:\n",
    "            minute_str = f'0{minute_str}'\n",
    "        self.time = f'{hour_str}:{minute_str}'   \n",
    "\n",
    "num = 0 \n",
    "simulations = 100000\n",
    "for i in range(simulations):\n",
    "    time = TIME().time\n",
    "    temp_num = DISPLAY(time).check_symmetry()\n",
    "    num += temp_num\n",
    "    \n",
    "print(num/simulations)"
   ]
  },
  {
   "cell_type": "markdown",
   "metadata": {},
   "source": [
    "The probability that we get from Monte Carlo simulation is eerily close to what we were able to deduce therefore validating our answer"
   ]
  }
 ],
 "metadata": {
  "kernelspec": {
   "display_name": "Python 3",
   "language": "python",
   "name": "python3"
  },
  "language_info": {
   "codemirror_mode": {
    "name": "ipython",
    "version": 3
   },
   "file_extension": ".py",
   "mimetype": "text/x-python",
   "name": "python",
   "nbconvert_exporter": "python",
   "pygments_lexer": "ipython3",
   "version": "3.8.4"
  }
 },
 "nbformat": 4,
 "nbformat_minor": 4
}
