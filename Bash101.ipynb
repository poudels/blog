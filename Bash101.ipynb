{
 "cells": [
  {
   "cell_type": "markdown",
   "metadata": {},
   "source": [
    "# Bash101 # "
   ]
  },
  {
   "cell_type": "markdown",
   "metadata": {},
   "source": [
    "**Invoke bash to run the file**\n",
    "```\n",
    "#! /bin/bash\n",
    "```"
   ]
  },
  {
   "cell_type": "markdown",
   "metadata": {},
   "source": [
    "**Hello World**\n",
    "\n",
    "\n",
    "- Print Hello World\n",
    "\n",
    "```\n",
    "echo Hello World\n",
    "```\n",
    "\n",
    "- Function to print Hello World \n",
    "\n",
    "```\n",
    "function intro {\n",
    "    echo Hello World\n",
    "}\n",
    "intro \n",
    "```"
   ]
  },
  {
   "cell_type": "markdown",
   "metadata": {},
   "source": [
    "**Variables**"
   ]
  },
  {
   "cell_type": "markdown",
   "metadata": {},
   "source": [
    "Create two variables called variable1 and variable2\n",
    "```\n",
    "variable1=\"SUBASH\"\n",
    "variable2=SUBASH\n",
    "```\n",
    "\n",
    "Check the variables that were just created \n",
    "```\n",
    "echo $variable1 $variable2 \n",
    "```\n",
    "\n",
    "variable1 was enclosed between two strings, but variable2 wasn't. But are they same? \n",
    "```\n",
    "if [ $variable1 == $variable2 ]; \n",
    "then \n",
    "    echo True\n",
    "else\n",
    "    echo False \n",
    "```\n",
    "\n",
    "They are indeed the same."
   ]
  },
  {
   "cell_type": "markdown",
   "metadata": {},
   "source": [
    "**String Replacement**\n",
    "\n",
    "```\n",
    "echo What is your name? \n",
    "read NAME\n",
    "echo Hi $NAME! How are you?\n",
    "```"
   ]
  },
  {
   "cell_type": "markdown",
   "metadata": {},
   "source": [
    "**Conditionals**\n",
    "\n",
    "```\n",
    "if [ \"foo\" = \"foo\" ]; \n",
    "then\n",
    "    echo \"true\"\n",
    "else \n",
    "    echo \"False\"\n",
    "fi\n",
    "```\n"
   ]
  },
  {
   "cell_type": "markdown",
   "metadata": {},
   "source": [
    "**Functions**\n",
    "```\n",
    "function helloUser {\n",
    "    echo \"What is your name?\"\n",
    "    read Name\n",
    "    echo \"Hello $Name, how are you?\"\n",
    "}\n",
    "\n",
    "function helloUser2 {\n",
    "    echo \"Hello $1, how are you?\"\n",
    "}\n",
    "\n",
    "\n",
    "helloUser\n",
    "\n",
    "helloUser2 Subash\n",
    "\n",
    "```\n"
   ]
  },
  {
   "cell_type": "markdown",
   "metadata": {},
   "source": [
    "**Pipe**\n",
    "\n",
    "Pipe is a \"function\" that takes the output of the command on the left of the pipe, and pass it as an input to the command on the right of the pipe. \n",
    "This is very similar to lambda function in python. \n",
    "\n",
    "Say we want to take a phrase \"hello world\" and change it to \"hello earth\", this is one way to do it\n",
    "\n",
    "```\n",
    "echo Hello World | sed 's/World/Earth/'\n",
    "```\n",
    "\n",
    "Say we want to search for a file ending with .txt in the current directory. \n",
    "\n",
    "```\n",
    "ls | grep \".txt\"\n",
    "```"
   ]
  },
  {
   "cell_type": "markdown",
   "metadata": {},
   "source": [
    "**Sed (Stream EDitor) commands**"
   ]
  },
  {
   "cell_type": "markdown",
   "metadata": {},
   "source": [
    "**Select certain lines from a file**\n",
    "\n",
    "Select lines 2 to 4 from file sed.txt\n",
    "\n",
    "```\n",
    "sed -n '2,4p' sed.txt\n",
    "```\n",
    "\n",
    "Select lines 2 to 4 and 6 to 8 from file sed.txt\n",
    "\n",
    "```\n",
    "sed -n -e '2,4p' -e '6,8p' sed.txt\n",
    "```\n",
    "\n",
    "Select lines containing certain characters from file sed.txt\n",
    "```\n",
    "sed -n '/^AB/p' sed.txt\n",
    "```\n"
   ]
  },
  {
   "cell_type": "markdown",
   "metadata": {},
   "source": [
    "**Replace characters in a file**\n",
    "\n",
    "Replace AB at the beginning of the line with xxx.\n",
    "\n",
    "```\n",
    "sed -n 's/^AB/xxx/gp' sed.txt\n",
    "```\n",
    "\n",
    "Replace all the A's or a's with xxx.\n",
    "\n",
    "```\n",
    "sed -n 's/[^Aa]/xxx/gp' sed.txt\n",
    "```\n"
   ]
  },
  {
   "cell_type": "markdown",
   "metadata": {},
   "source": [
    "**Search for a .txt file in the current directory**\n",
    "\n",
    "```\n",
    "ls -l | grep \"\\.txt$\"\n",
    "```\n"
   ]
  },
  {
   "cell_type": "markdown",
   "metadata": {},
   "source": [
    "**Create a variable (or a file name) that changes everyday**\n",
    "```\n",
    "FILE=log_$(date +%Y%m%d).txt\n",
    "echo $FILE\n",
    "```\n"
   ]
  },
  {
   "cell_type": "markdown",
   "metadata": {},
   "source": [
    "**Get Current Directory**\n",
    "\n",
    "```\n",
    "PWD\n",
    "```\n"
   ]
  }
 ],
 "metadata": {
  "kernelspec": {
   "display_name": "Python 3",
   "language": "python",
   "name": "python3"
  },
  "language_info": {
   "codemirror_mode": {
    "name": "ipython",
    "version": 3
   },
   "file_extension": ".py",
   "mimetype": "text/x-python",
   "name": "python",
   "nbconvert_exporter": "python",
   "pygments_lexer": "ipython3",
   "version": "3.8.4"
  }
 },
 "nbformat": 4,
 "nbformat_minor": 4
}
